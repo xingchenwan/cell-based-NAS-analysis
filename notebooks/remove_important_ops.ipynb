{
 "cells": [
  {
   "cell_type": "code",
   "execution_count": 2,
   "id": "28fcb53a",
   "metadata": {},
   "outputs": [],
   "source": [
    "%load_ext autoreload\n",
    "%autoreload 2"
   ]
  },
  {
   "cell_type": "code",
   "execution_count": 3,
   "id": "58f05895",
   "metadata": {},
   "outputs": [
    {
     "name": "stdout",
     "output_type": "stream",
     "text": [
      "/media/xwan/HDD2/Projects/postNAS\n"
     ]
    }
   ],
   "source": [
    "cd .."
   ]
  },
  {
   "cell_type": "code",
   "execution_count": 7,
   "id": "df7b7aed",
   "metadata": {},
   "outputs": [],
   "source": [
    "import pickle\n",
    "import matplotlib.pyplot as plt\n",
    "import matplotlib\n",
    "matplotlib.rcParams.update({'font.size': 16})\n",
    "import networkx as nx\n",
    "import numpy as np\n",
    "from tqdm import tqdm\n",
    "import os"
   ]
  },
  {
   "cell_type": "code",
   "execution_count": 5,
   "id": "b703619c",
   "metadata": {},
   "outputs": [],
   "source": [
    "import networkx as nx"
   ]
  },
  {
   "cell_type": "code",
   "execution_count": 5,
   "id": "9c9dc470",
   "metadata": {},
   "outputs": [],
   "source": [
    "from search_spaces.nas301 import NASBench301, genotype2str"
   ]
  },
  {
   "cell_type": "code",
   "execution_count": 6,
   "id": "0283de03",
   "metadata": {},
   "outputs": [],
   "source": [
    "n_samples = 40"
   ]
  },
  {
   "cell_type": "code",
   "execution_count": 7,
   "id": "e2b7c655",
   "metadata": {},
   "outputs": [],
   "source": [
    "ss = NASBench301(file_path='/media/xwan/HDD2/NASDatasets/nasbench301_models_v0.9/nb_models',)"
   ]
  },
  {
   "cell_type": "code",
   "execution_count": 8,
   "id": "c13ccef6",
   "metadata": {},
   "outputs": [],
   "source": [
    "ss.negative= False\n",
    "ss.log_scale = False"
   ]
  },
  {
   "cell_type": "code",
   "execution_count": 69,
   "id": "d483242d",
   "metadata": {},
   "outputs": [],
   "source": [
    "good_archs = pickle.load(open('data/nb301_top_arch_info_with_importance.pickle', 'rb'))"
   ]
  },
  {
   "cell_type": "code",
   "execution_count": 70,
   "id": "70db1852",
   "metadata": {},
   "outputs": [],
   "source": [
    "selected_idx = np.random.RandomState(0).choice(len(good_archs), n_samples, replace=False)"
   ]
  },
  {
   "cell_type": "code",
   "execution_count": 71,
   "id": "a19813e6",
   "metadata": {},
   "outputs": [],
   "source": [
    "selected_archs = [\n",
    "    good_archs[i] for i in selected_idx\n",
    "]"
   ]
  },
  {
   "cell_type": "code",
   "execution_count": 73,
   "id": "4785336c",
   "metadata": {},
   "outputs": [],
   "source": [
    "def prune_genotypes(genotype, weight, min_op_node_frac=0.3, ascending_weight=True, exclude_ori=True):\n",
    "    from copy import deepcopy\n",
    "    min_op_nodes = np.round((1 - min_op_node_frac) * 16).astype(np.int)\n",
    "    weight_ord = np.argsort(weight)\n",
    "    if not ascending_weight:\n",
    "        weight_ord = weight_ord[::-1]\n",
    "    geno = deepcopy(genotype)\n",
    "    all_genos = [geno]\n",
    "    for edge_order in weight_ord[:min_op_nodes]:\n",
    "        geno = deepcopy(all_genos[-1])\n",
    "#         print(edge_order)\n",
    "        if edge_order >= 8:\n",
    "            link = geno.reduce[edge_order-8][1]\n",
    "            geno.reduce[edge_order - 8] = ('none', link)\n",
    "        else:\n",
    "            link = geno.normal[edge_order][1]\n",
    "            geno.normal[edge_order] = ('none', link)\n",
    "#         print(geno)\n",
    "        all_genos.append(geno)\n",
    "    if exclude_ori:\n",
    "        all_genos = all_genos[1:]\n",
    "    return all_genos"
   ]
  },
  {
   "cell_type": "code",
   "execution_count": 74,
   "id": "0c8b53b2",
   "metadata": {},
   "outputs": [],
   "source": [
    "def extract_weight(normal_graph, reduce_graph):\n",
    "    weights_norm = np.zeros(normal_graph.number_of_edges())\n",
    "    weights_red = np.zeros(reduce_graph.number_of_edges())\n",
    "    for ei, eo, prop in normal_graph.edges(data=True):\n",
    "        order = prop['edge_order']\n",
    "        w = prop['weight']\n",
    "        weights_norm[order] = w\n",
    "    for ei, eo, prop in reduce_graph.edges(data=True):\n",
    "        order = prop['edge_order']\n",
    "        w = prop['weight']\n",
    "        weights_red[order] = w\n",
    "    weight = np.concatenate((weights_norm, weights_red))\n",
    "    return weight"
   ]
  },
  {
   "cell_type": "code",
   "execution_count": 77,
   "id": "4e6d134e",
   "metadata": {},
   "outputs": [],
   "source": [
    "from copy import deepcopy"
   ]
  },
  {
   "cell_type": "code",
   "execution_count": 82,
   "id": "6e4f6b4b",
   "metadata": {},
   "outputs": [],
   "source": [
    "for i, arch in enumerate(selected_archs):\n",
    "    all_genos  = [deepcopy(arch['genotype'])]\n",
    "    weights = extract_weight(arch['edge_graph_normal'], arch['edge_graph_reduce'])\n",
    "    pruned_from_least_important = prune_genotypes(arch['genotype'], weights, min_op_node_frac=0.51)\n",
    "    pruned_from_most_important = prune_genotypes(arch['genotype'], weights, min_op_node_frac=0.51, ascending_weight=False)\n",
    "    all_genos += pruned_from_least_important\n",
    "    all_genos += pruned_from_most_important\n",
    "    pickle.dump(all_genos, open(f'./output/train_perturb_genotypes/perturb_genos_index-{i}.pickle', 'wb'))\n"
   ]
  },
  {
   "cell_type": "code",
   "execution_count": 6,
   "id": "12facbe5",
   "metadata": {},
   "outputs": [],
   "source": [
    "import os"
   ]
  },
  {
   "cell_type": "code",
   "execution_count": 23,
   "id": "7101c157",
   "metadata": {},
   "outputs": [],
   "source": [
    "from scipy.stats import ttest_1samp\n",
    "from scipy.stats import wilcoxon"
   ]
  },
  {
   "cell_type": "code",
   "execution_count": 75,
   "id": "1c93eafe",
   "metadata": {},
   "outputs": [
    {
     "data": {
      "image/png": "[encoded data removed]",
      "text/plain": [
       "<Figure size 288x288 with 1 Axes>"
      ]
     },
     "metadata": {},
     "output_type": "display_data"
    }
   ],
   "source": [
    "plt.figure(figsize=[4, 4])\n",
    "most_imps = []\n",
    "less_imps = []\n",
    "for p in paths:\n",
    "    idx = int(p.split('-')[1].split('.')[0])\n",
    "    genotypes = pickle.load(open(f'output/train_perturb_genotypes/perturb_genos_index-{idx}.pickle', 'rb'))\n",
    "    strs = [genotype2str(g, flatten=True) for g in genotypes]\n",
    "\n",
    "    all_genos = []\n",
    "    best_val_accs = []\n",
    "    all_val_accs = []\n",
    "    for j in range(len(strs)):\n",
    "        try:\n",
    "            geno_str_path_ = strs[j]\n",
    "            geno_str_path = os.path.join(p, geno_str_path_)\n",
    "            stats = pickle.load(open(os.path.join(geno_str_path, 'stats.pickle'), 'rb'))\n",
    "            geno = stats['genotype']\n",
    "            best_val_acc = np.max(stats['retrain_stats']['full_test_accs'])\n",
    "            all_val_acc = np.array(stats['retrain_stats']['full_test_accs'])\n",
    "            best_val_accs.append(best_val_acc)\n",
    "            all_val_accs.append(all_val_acc)\n",
    "            all_genos.append(geno)\n",
    "        except:\n",
    "            best_val_accs.append(np.nan)\n",
    "\n",
    "    if len(best_val_accs):\n",
    "        best_val_accs = np.array(best_val_accs).flatten()\n",
    "        ori_acc = best_val_accs[0]\n",
    "        less_impt = best_val_accs[1:9] - ori_acc\n",
    "        most_imp = best_val_accs[9:] - ori_acc\n",
    "\n",
    "#         plt.plot(np.arange(most_imp.shape[0])+1, most_imp, \"-\", color='r', alpha=0.15)\n",
    "#         plt.plot(np.arange(less_impt.shape[0])+1,less_impt, \"-\", color='g', alpha=0.15)\n",
    "        most_imps.append(most_imp)\n",
    "        less_imps.append(less_impt)\n",
    "\n",
    "most_imps = np.array(most_imps)\n",
    "less_imps = np.array(less_imps)\n",
    "most_impt_mean, most_impt_std = np.nanmedian(most_imps, axis=0), np.nanstd(most_imps, axis=0)/np.sqrt(most_impt_mean.shape[0])\n",
    "lb_most_impt, ub_most_impt = np.nanpercentile(most_imps, 30, axis=0), np.nanpercentile(most_imps, 70, axis=0)\n",
    "less_impt_mean, less_impt_std = np.nanmedian(less_imps, axis=0), np.nanstd(less_imps, axis=0)/np.sqrt(most_impt_mean.shape[0])\n",
    "lb_less_impt, ub_less_impt = np.nanpercentile(less_imps, 30, axis=0), np.nanpercentile(less_imps, 70, axis=0)\n",
    "\n",
    "plt.errorbar(np.arange(most_impt_mean.shape[0])+1, most_impt_mean, yerr=[ub_most_impt,lb_most_impt], capsize=2, color='r', label='Most impt')\n",
    "\n",
    "plt.errorbar(np.arange(less_impt_mean.shape[0])+1,less_impt_mean, yerr=[ub_less_impt,lb_less_impt], capsize=2, color='g', label='Least impt')\n",
    "for i in range(less_imps.shape[1]):\n",
    "    statt = less_imps[:, i]\n",
    "    statt = statt[statt == statt]\n",
    "    pval = wilcoxon(statt,  alternative='less', )[1]\n",
    "    if pval < 0.01:\n",
    "        plt.plot(i+1, np.nanmedian(less_imps[:, i]), marker='*', color='g', markersize=10)\n",
    "for i in range(most_imps.shape[1]):\n",
    "    statt = most_imps[:, i]\n",
    "    statt = statt[statt == statt]\n",
    "    pval = wilcoxon(statt, alternative='less')[1]\n",
    "#     print(statt)\n",
    "    if pval < 0.01:\n",
    "        plt.plot(i+1, np.nanmedian(most_imps[:, i]), marker='*', color='r', markersize=10)\n",
    "\n",
    "\n",
    "# plt.fill_between(np.arange(most_impt_mean.shape[0])+1, most_impt_mean-most_impt_std,most_impt_mean+most_impt_std, color='r', alpha=0.2, label='Most impt')\n",
    "# plt.fill_between(np.arange(less_impt_mean.shape[0])+1, less_impt_mean-less_impt_std,less_impt_mean+less_impt_std, color='g', alpha=0.2, label='Least impt')\n",
    "plt.xlabel('Number of operations disabled')\n",
    "plt.ylabel('$\\Delta$ in test acc (%)')\n",
    "plt.ylim([-6, 0.5])\n",
    "plt.axhline(0, linewidth=2, color='k', linestyle='--')\n",
    "plt.legend()\n",
    "plt.savefig('./figs/remove_ops.pdf', dpi=200, bbox_inches='tight')"
   ]
  }
 ],
 "metadata": {
  "kernelspec": {
   "display_name": "python(curvature)",
   "language": "python",
   "name": "curvature"
  },
  "language_info": {
   "codemirror_mode": {
    "name": "ipython",
    "version": 3
   },
   "file_extension": ".py",
   "mimetype": "text/x-python",
   "name": "python",
   "nbconvert_exporter": "python",
   "pygments_lexer": "ipython3",
   "version": "3.7.4"
  }
 },
 "nbformat": 4,
 "nbformat_minor": 5
}
