{
 "cells": [
  {
   "cell_type": "code",
   "execution_count": 1,
   "id": "25247246",
   "metadata": {},
   "outputs": [],
   "source": [
    "%load_ext autoreload\n",
    "%autoreload 2"
   ]
  },
  {
   "cell_type": "code",
   "execution_count": 2,
   "id": "5810c8a2",
   "metadata": {},
   "outputs": [
    {
     "name": "stdout",
     "output_type": "stream",
     "text": [
      "/media/xwan/HDD2/Projects/postNAS\n"
     ]
    }
   ],
   "source": [
    "cd .."
   ]
  },
  {
   "cell_type": "code",
   "execution_count": 3,
   "id": "e229c5a4",
   "metadata": {},
   "outputs": [],
   "source": [
    "import pickle\n",
    "import numpy as np\n",
    "l = pickle.load(open('data/nb301_top_arch_info_with_importance.pickle', 'rb'))"
   ]
  },
  {
   "cell_type": "code",
   "execution_count": 4,
   "id": "06d842a3",
   "metadata": {},
   "outputs": [
    {
     "name": "stdout",
     "output_type": "stream",
     "text": [
      "Importing NAS-Bench-301 API failed\n"
     ]
    }
   ],
   "source": [
    "from search_spaces.nas301 import NASBench301"
   ]
  },
  {
   "cell_type": "code",
   "execution_count": 5,
   "id": "c8138f20",
   "metadata": {},
   "outputs": [],
   "source": [
    "import networkx as nx\n",
    "import matplotlib as mpl\n",
    "import matplotlib.pyplot as plt\n",
    "from networkx.drawing.nx_pydot import graphviz_layout\n",
    "import numpy as np\n",
    "import seaborn as sns\n",
    "from tqdm import tqdm\n",
    "import pandas as pd"
   ]
  },
  {
   "cell_type": "code",
   "execution_count": 6,
   "id": "95b3016a",
   "metadata": {},
   "outputs": [],
   "source": [
    "import pickle"
   ]
  },
  {
   "cell_type": "code",
   "execution_count": 7,
   "id": "383eee82",
   "metadata": {},
   "outputs": [],
   "source": [
    "shorthand = {\n",
    "    'sep_conv_3x3': 's3',\n",
    "    'sep_conv_5x5': 's5',\n",
    "    'dil_conv_3x3': 'd3',\n",
    "    'dil_conv_5x5': 'd5',\n",
    "    'skip_connect': 'skip',\n",
    "    'max_pool_3x3': 'mp3',\n",
    "    'avg_pool_3x3': 'ap3',\n",
    "    '': '',\n",
    "}"
   ]
  },
  {
   "cell_type": "code",
   "execution_count": 18,
   "id": "740d9c20",
   "metadata": {},
   "outputs": [],
   "source": [
    "def get_constrained_random_arch(same_normal_reduce=False, constrain_primitives=True, ):\n",
    "    \"\"\"Get a randomly sampled architecutre in the DARTS search space subjected to some Skip constraint\"\"\"\n",
    "    PRIMITIVES = [\n",
    "    'max_pool_3x3',\n",
    "    'avg_pool_3x3',\n",
    "    'skip_connect',\n",
    "    'sep_conv_3x3',\n",
    "    'sep_conv_5x5',\n",
    "    'dil_conv_3x3',\n",
    "    'dil_conv_5x5'\n",
    "    ]\n",
    "    \n",
    "    if constrain_primitives:\n",
    "        MODIFIED_PRIMITIVES = [\n",
    "            'sep_conv_3x3',\n",
    "            'sep_conv_5x5',\n",
    "        ]\n",
    "    else:\n",
    "         MODIFIED_PRIMITIVES = PRIMITIVES\n",
    "\n",
    "    def _constrained_sample_cell():\n",
    "        wiring = [0, 1]\n",
    "        for order in range(2, 5):   # random sampling from the node 1\n",
    "            xrange = np.arange(order)\n",
    "            chosen_nodes = np.random.choice(xrange, 2, replace=False).tolist()\n",
    "            wiring += chosen_nodes\n",
    "        assert len(wiring) == 8, wiring\n",
    "        # now fix the operation. Note the first node wiring is fixed a-priori\n",
    "        spec = [('skip_connect', 0), ('skip_connect', 1)]\n",
    "        for i in range(2, 8):\n",
    "            current_node = wiring[i]\n",
    "            op_choice = np.random.choice(MODIFIED_PRIMITIVES) if constrain_primitives else np.random.choice(PRIMITIVES)\n",
    "            spec.append((op_choice, current_node))\n",
    "        return spec\n",
    "    \n",
    "    normal_spec = _constrained_sample_cell()\n",
    "    if same_normal_reduce:\n",
    "        reduce_spec = deepcopy(normal_spec)\n",
    "    else:\n",
    "        reduce_spec = _constrained_sample_cell()\n",
    "    genotype = Genotype(normal=normal_spec, normal_concat=[2,3,4,5], reduce=reduce_spec, reduce_concat=[2,3,4,5])\n",
    "    return genotype"
   ]
  },
  {
   "cell_type": "code",
   "execution_count": 9,
   "id": "78c5af94",
   "metadata": {},
   "outputs": [],
   "source": [
    "def get_random_arch( same_normal_reduce=True, constrain_primitive=True):\n",
    "    \"\"\"\n",
    "    n: number of random samples to yield\n",
    "    same_arch (bool): whether to use the same architecture for the normal cell and the reduction cell\n",
    "    \"\"\"\n",
    "\n",
    "    \"\"\"Generate a list of 2 tuples, consisting of the random DARTS Genotype and DiGraph\"\"\"\n",
    "    if constrain_primitive:\n",
    "        PRIMITIVES = [\n",
    "        'skip_connect',\n",
    "        'sep_conv_3x3',\n",
    "        'sep_conv_5x5',]\n",
    "    else:\n",
    "        PRIMITIVES = [\n",
    "        'max_pool_3x3',\n",
    "        'avg_pool_3x3',\n",
    "        'skip_connect',\n",
    "        'sep_conv_3x3',\n",
    "        'sep_conv_5x5',\n",
    "        'dil_conv_3x3',\n",
    "        'dil_conv_5x5'\n",
    "        ]\n",
    "    N_TOWERS = 4\n",
    "\n",
    "    def _sample():\n",
    "        normal = []\n",
    "        reduction = []\n",
    "        for i in range(N_TOWERS):\n",
    "            ops = np.random.choice(range(len(PRIMITIVES)), N_TOWERS)\n",
    "\n",
    "            # input nodes for conv\n",
    "            nodes_in_normal = np.random.choice(range(i + 2), 2, replace=False)\n",
    "            # input nodes for reduce\n",
    "            if same_normal_reduce:\n",
    "                nodes_in_reduce = nodes_in_normal\n",
    "                normal.extend([(PRIMITIVES[ops[0]], nodes_in_normal[0]), (PRIMITIVES[ops[1]], nodes_in_normal[1])])\n",
    "                reduction.extend(\n",
    "                    [(PRIMITIVES[ops[0]], nodes_in_reduce[0],), (PRIMITIVES[ops[1]], nodes_in_reduce[1])])\n",
    "            else:\n",
    "                op_in_reduce = np.random.choice(range(len(PRIMITIVES)), N_TOWERS)\n",
    "                nodes_in_reduce = np.random.choice(range(i + 2), 2, replace=False)\n",
    "                normal.extend([(PRIMITIVES[ops[0]], nodes_in_normal[0]), (PRIMITIVES[ops[1]], nodes_in_normal[1])])\n",
    "                reduction.extend(\n",
    "                    [(PRIMITIVES[op_in_reduce[0]], nodes_in_reduce[0],),\n",
    "                     (PRIMITIVES[op_in_reduce[1]], nodes_in_reduce[1])])\n",
    "\n",
    "        darts_genotype = Genotype(normal=normal, normal_concat=range(2, 2 + N_TOWERS),\n",
    "                                  reduce=reduction, reduce_concat=range(2, 2 + N_TOWERS))\n",
    "        return darts_genotype\n",
    "\n",
    "    # obtain a randomly sampled genotype\n",
    "    genotype = _sample()\n",
    "    return genotype"
   ]
  },
  {
   "cell_type": "code",
   "execution_count": 10,
   "id": "c3d89a2a",
   "metadata": {},
   "outputs": [],
   "source": [
    "from collections import namedtuple\n",
    "Genotype = namedtuple('Genotype', 'normal normal_concat reduce reduce_concat')\n",
    "from copy import deepcopy\n",
    "import pickle"
   ]
  },
  {
   "cell_type": "code",
   "execution_count": 11,
   "id": "a3562e80",
   "metadata": {},
   "outputs": [],
   "source": [
    "from search_spaces.nas301 import Genotype"
   ]
  },
  {
   "cell_type": "code",
   "execution_count": 12,
   "id": "3642d664",
   "metadata": {},
   "outputs": [],
   "source": [
    "from darts_cnn.visualize import plot"
   ]
  },
  {
   "cell_type": "code",
   "execution_count": 13,
   "id": "991ab595",
   "metadata": {},
   "outputs": [
    {
     "name": "stdout",
     "output_type": "stream",
     "text": [
      "Loading NB301 failed. API-less mode. Error message is name 'nb' is not defined\n"
     ]
    }
   ],
   "source": [
    "ss = NASBench301(file_path='/media/xwan/HDD2/NASDatasets/nasbench301_models_v0.9/nb_models',)"
   ]
  },
  {
   "cell_type": "code",
   "execution_count": 15,
   "id": "ecd266f7",
   "metadata": {},
   "outputs": [],
   "source": [
    "ss.log_scale = False\n",
    "ss.negative = False"
   ]
  },
  {
   "cell_type": "code",
   "execution_count": 17,
   "id": "22df29b4",
   "metadata": {},
   "outputs": [],
   "source": [
    "# Random\n",
    "random_archs = [ss.get_random_arch(same_normal_reduce=False, return_string=False) for _ in range(100)]\n",
    "random_arch_perfs = [ss.query(s, with_noise=False) for s in random_archs]"
   ]
  },
  {
   "cell_type": "code",
   "execution_count": 18,
   "id": "b6317176",
   "metadata": {},
   "outputs": [],
   "source": [
    "# Prim Constraint\n",
    "random_archs_primitive_constrained = [get_random_arch(same_normal_reduce=False, constrain_primitive=True) for _ in range(100)]\n",
    "random_archs_primitive_constrained_perfs = [ss.query(s, with_noise=False) for s in random_archs_primitive_constrained]"
   ]
  },
  {
   "cell_type": "code",
   "execution_count": 19,
   "id": "e17a7c38",
   "metadata": {},
   "outputs": [],
   "source": [
    "# PrimSkip Constraints\n",
    "constrained_random_archs = [get_constrained_random_arch(same_normal_reduce=False, constrain_primitives=True) for _ in range(100)]\n",
    "constrained_arch_perfs = [ss.query(s, with_noise=False) for s in constrained_random_archs2]"
   ]
  },
  {
   "cell_type": "code",
   "execution_count": 20,
   "id": "6156f197",
   "metadata": {},
   "outputs": [],
   "source": [
    "# Skip Constraints \n",
    "no_primitive_constraint = [get_constrained_random_arch(same_normal_reduce=False, constrain_primitives=False) for _ in range(100)]\n",
    "no_primitive_constraint_perfs = [ss.query(s, with_noise=False) for s in no_primitive_constraint]"
   ]
  },
  {
   "cell_type": "code",
   "execution_count": 22,
   "id": "a1250394",
   "metadata": {},
   "outputs": [],
   "source": [
    "import matplotlib\n",
    "matplotlib.rcParams.update({'font.size': 16.5})"
   ]
  },
  {
   "cell_type": "code",
   "execution_count": 24,
   "id": "3e5821fa",
   "metadata": {},
   "outputs": [],
   "source": [
    "all_res = pd.DataFrame(np.nan, columns=['Random', 'Skip','Prim',  'PrimSkip', ], index=np.arange(100))\n",
    "all_res.iloc[:, 0] = random_arch_perfs\n",
    "all_res.iloc[:, 1] = no_primitive_constraint_perfs\n",
    "all_res.iloc[:, 2] = random_archs_primitive_constrained_perfs\n",
    "all_res.iloc[:, 3] = constrained_arch_perfs\n",
    "# all_res.iloc[:, 4] = constrained_arch_perfs2\n",
    "all_res = all_res * 100"
   ]
  },
  {
   "cell_type": "code",
   "execution_count": 25,
   "id": "12ede3f6",
   "metadata": {},
   "outputs": [
    {
     "data": {
      "image/png": "[encoded data removed]",
      "text/plain": [
       "<Figure size 324x360 with 1 Axes>"
      ]
     },
     "metadata": {},
     "output_type": "display_data"
    }
   ],
   "source": [
    "plt.figure(figsize=[4.5, 5])\n",
    "sns.boxplot(data=all_res, palette=\"crest\")\n",
    "plt.ylabel('$\\mathbf{Predicted}$ test err (%) $\\\\tilde{y}$')\n",
    "plt.savefig('./figs/sample_n301_pred.pdf', dpi=200, bbox_inches='tight')"
   ]
  }
 ],
 "metadata": {
  "kernelspec": {
   "display_name": "python(curvature)",
   "language": "python",
   "name": "curvature"
  },
  "language_info": {
   "codemirror_mode": {
    "name": "ipython",
    "version": 3
   },
   "file_extension": ".py",
   "mimetype": "text/x-python",
   "name": "python",
   "nbconvert_exporter": "python",
   "pygments_lexer": "ipython3",
   "version": "3.7.4"
  }
 },
 "nbformat": 4,
 "nbformat_minor": 5
}
